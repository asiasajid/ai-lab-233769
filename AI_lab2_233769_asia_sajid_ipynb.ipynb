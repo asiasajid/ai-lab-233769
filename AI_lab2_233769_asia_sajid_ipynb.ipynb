{
  "nbformat": 4,
  "nbformat_minor": 0,
  "metadata": {
    "colab": {
      "provenance": []
    },
    "kernelspec": {
      "name": "python3",
      "display_name": "Python 3"
    },
    "language_info": {
      "name": "python"
    }
  },
  "cells": [
    {
      "cell_type": "code",
      "source": [
        "activity 1"
      ],
      "metadata": {
        "id": "sHFk5aS8cZpo"
      },
      "execution_count": null,
      "outputs": []
    },
    {
      "cell_type": "code",
      "execution_count": 13,
      "metadata": {
        "colab": {
          "base_uri": "https://localhost:8080/"
        },
        "id": "VDVo_Bomb-NV",
        "outputId": "77902285-5aa5-41b4-d5d3-023f00c44408"
      },
      "outputs": [
        {
          "output_type": "stream",
          "name": "stdout",
          "text": [
            "File created and text written successfully.\n"
          ]
        }
      ],
      "source": [
        "# Solution\n",
        "file = open(\"notes.txt\", \"w\") # 'w' mode creates or overwrites\n",
        "file.write(\"Welcome to the File Handling Lab!\\n\")\n",
        "file.write(\"This is the first line of text.\")\n",
        "file.close()\n",
        "print(\"File created and text written successfully.\")\n"
      ]
    },
    {
      "cell_type": "markdown",
      "source": [
        "activity 2"
      ],
      "metadata": {
        "id": "WFCTOG5pdSfi"
      }
    },
    {
      "cell_type": "code",
      "source": [
        "file = open(\"notes.txt\", \"r\")\n",
        "content = file.read()\n",
        "file.close()\n",
        "print(\"File Content:\\n\", content)\n"
      ],
      "metadata": {
        "colab": {
          "base_uri": "https://localhost:8080/"
        },
        "id": "-99Hb5cTdPJu",
        "outputId": "777fe922-1cea-4ff0-b2d6-3b04bcff4f67"
      },
      "execution_count": 14,
      "outputs": [
        {
          "output_type": "stream",
          "name": "stdout",
          "text": [
            "File Content:\n",
            " Welcome to the File Handling Lab!\n",
            "This is the first line of text.\n"
          ]
        }
      ]
    },
    {
      "cell_type": "markdown",
      "source": [
        "activity 3"
      ],
      "metadata": {
        "id": "YGEBg5LFdecf"
      }
    },
    {
      "cell_type": "code",
      "source": [
        "file = open(\"notes.txt\", \"a\")\n",
        "file.write(\"\\nThis line was appended later.\")\n",
        "file.close()\n"
      ],
      "metadata": {
        "id": "_w6WCHjbdhSg"
      },
      "execution_count": 18,
      "outputs": []
    },
    {
      "cell_type": "code",
      "source": [
        "ctivity 4"
      ],
      "metadata": {
        "id": "I8Ozotb3dnxW"
      },
      "execution_count": null,
      "outputs": []
    },
    {
      "cell_type": "code",
      "source": [
        "with open(\"notes.txt\", \"r\") as file:\n",
        "    for line in file:\n",
        "        print(line.strip())\n"
      ],
      "metadata": {
        "colab": {
          "base_uri": "https://localhost:8080/"
        },
        "id": "_jk8dGXwdsU9",
        "outputId": "5dfc36f5-731e-47de-82e3-a32b18ec7967"
      },
      "execution_count": 17,
      "outputs": [
        {
          "output_type": "stream",
          "name": "stdout",
          "text": [
            "Welcome to the File Handling Lab!\n",
            "This is the first line of text.\n",
            "This line was appended later.\n",
            "This line was appended later.\n"
          ]
        }
      ]
    },
    {
      "cell_type": "markdown",
      "source": [
        "activity 5"
      ],
      "metadata": {
        "id": "HdzzXhU0dx7Z"
      }
    },
    {
      "cell_type": "code",
      "source": [
        "try:\n",
        "    with open(\"nofile.txt\", \"r\") as f:\n",
        "        print(f.read())\n",
        "except FileNotFoundError:\n",
        "    print(\"Error: The file does not exist!\")\n"
      ],
      "metadata": {
        "colab": {
          "base_uri": "https://localhost:8080/"
        },
        "id": "p8ehJDuBdwb-",
        "outputId": "225adcbc-01f2-4103-a863-2de68f2a5e52"
      },
      "execution_count": 19,
      "outputs": [
        {
          "output_type": "stream",
          "name": "stdout",
          "text": [
            "Error: The file does not exist!\n"
          ]
        }
      ]
    },
    {
      "cell_type": "markdown",
      "source": [
        "AC :6"
      ],
      "metadata": {
        "id": "cg5jcHOkeJv1"
      }
    },
    {
      "cell_type": "code",
      "source": [
        "try:\n",
        "    number = int(input(\"Enter a number: \"))\n",
        "    result = 10 / number\n",
        "    print(\"Result:\", result)\n",
        "except ValueError:\n",
        "    print(\"Invalid input! Please enter a number.\")\n",
        "except ZeroDivisionError:\n",
        "    print(\"Division by zero is not allowed.\")\n",
        "finally:\n",
        "    print(\"Operation Completed.\")\n"
      ],
      "metadata": {
        "colab": {
          "base_uri": "https://localhost:8080/"
        },
        "id": "_wlZYCDreIco",
        "outputId": "01fde205-146e-4b40-b17a-4d58446aed12"
      },
      "execution_count": 20,
      "outputs": [
        {
          "output_type": "stream",
          "name": "stdout",
          "text": [
            "Enter a number: 10\n",
            "Result: 1.0\n",
            "Operation Completed.\n"
          ]
        }
      ]
    },
    {
      "cell_type": "markdown",
      "source": [
        "activity 7"
      ],
      "metadata": {
        "id": "fu42WqewePMx"
      }
    },
    {
      "cell_type": "code",
      "source": [
        "def file_stats(filename):\n",
        "    try:\n",
        "        with open(filename, \"r\", encoding=\"utf-8\") as f:\n",
        "            text = f.read()\n",
        "        lines = text.splitlines()\n",
        "        words = text.split()\n",
        "        print(f\"Lines: {len(lines)}, Words: {len(words)}, Characters: {len(text)}\")\n",
        "    except FileNotFoundError:\n",
        "        print(\"Error: File not found.\")\n",
        "\n",
        "file_stats(\"big_text.txt\")\n"
      ],
      "metadata": {
        "colab": {
          "base_uri": "https://localhost:8080/"
        },
        "id": "ncMznJV2eRJm",
        "outputId": "d7d0cf63-0243-4652-bec2-71679de7362a"
      },
      "execution_count": 21,
      "outputs": [
        {
          "output_type": "stream",
          "name": "stdout",
          "text": [
            "Error: File not found.\n"
          ]
        }
      ]
    },
    {
      "cell_type": "markdown",
      "source": [
        "activity 8"
      ],
      "metadata": {
        "id": "5a0p200ReVgc"
      }
    },
    {
      "cell_type": "code",
      "source": [
        "import os, glob\n",
        "\n",
        "def merge_text_files(folder, output_file):\n",
        "    with open(output_file, \"w\", encoding=\"utf-8\") as outfile:\n",
        "        for txt_file in glob.glob(os.path.join(folder, \"*.txt\")):\n",
        "            try:\n",
        "                with open(txt_file, \"r\", encoding=\"utf-8\") as infile:\n",
        "                    outfile.write(infile.read() + \"\\n\")\n",
        "            except Exception as e:\n",
        "                print(f\"Skipped {txt_file}: {e}\")\n",
        "\n",
        "merge_text_files(\"myfolder\", \"merged_output.txt\")\n"
      ],
      "metadata": {
        "id": "Qn5BUMoqeUsS"
      },
      "execution_count": 23,
      "outputs": []
    },
    {
      "cell_type": "markdown",
      "source": [
        "activity 9"
      ],
      "metadata": {
        "id": "mpHRhk0iecGH"
      }
    },
    {
      "cell_type": "code",
      "source": [
        "import csv\n",
        "\n",
        "def analyze_csv(file):\n",
        "    try:\n",
        "        with open(file, newline='', encoding=\"utf-8\") as f:\n",
        "            reader = csv.DictReader(f)\n",
        "            totals, counts = {}, {}\n",
        "            for row in reader:\n",
        "                for subject, mark in row.items():\n",
        "                    if subject != 'Name':\n",
        "                        try:\n",
        "                            mark = float(mark)\n",
        "                            totals[subject] = totals.get(subject, 0) + mark\n",
        "                            counts[subject] = counts.get(subject, 0) + 1\n",
        "                        except ValueError:\n",
        "                            print(f\"Invalid mark in row: {row}\")\n",
        "            for subject in totals:\n",
        "                print(f\"{subject}: {totals[subject]/counts[subject]:.2f}\")\n",
        "    except FileNotFoundError:\n",
        "        print(\"CSV file not found.\")\n",
        "\n",
        "analyze_csv(\"marks.csv\")\n"
      ],
      "metadata": {
        "colab": {
          "base_uri": "https://localhost:8080/"
        },
        "id": "6U2mljlMedzE",
        "outputId": "c9cfcf06-93ba-4f0e-d4bd-1d79303a2315"
      },
      "execution_count": 24,
      "outputs": [
        {
          "output_type": "stream",
          "name": "stdout",
          "text": [
            "CSV file not found.\n"
          ]
        }
      ]
    },
    {
      "cell_type": "markdown",
      "source": [
        "activity 10"
      ],
      "metadata": {
        "id": "VIrOSRtfehnG"
      }
    },
    {
      "cell_type": "code",
      "source": [
        "import json\n",
        "\n",
        "def load_config(filename):\n",
        "    default_config = {\"theme\": \"light\", \"language\": \"en\", \"autosave\": True}\n",
        "    try:\n",
        "        with open(filename, \"r\", encoding=\"utf-8\") as f:\n",
        "            return json.load(f)\n",
        "    except (FileNotFoundError, json.JSONDecodeError) as e:\n",
        "        print(f\"Error loading config: {e}. Using defaults.\")\n",
        "        return default_config\n",
        "\n",
        "config = load_config(\"config.json\")\n",
        "print(config)\n"
      ],
      "metadata": {
        "colab": {
          "base_uri": "https://localhost:8080/"
        },
        "id": "wUWBYMn4elI5",
        "outputId": "49320da4-9c83-43f6-ae97-29d8642ee018"
      },
      "execution_count": 25,
      "outputs": [
        {
          "output_type": "stream",
          "name": "stdout",
          "text": [
            "Error loading config: [Errno 2] No such file or directory: 'config.json'. Using defaults.\n",
            "{'theme': 'light', 'language': 'en', 'autosave': True}\n"
          ]
        }
      ]
    },
    {
      "cell_type": "markdown",
      "source": [],
      "metadata": {
        "id": "S4F-VIrEdgWM"
      }
    },
    {
      "cell_type": "markdown",
      "source": [
        "activity 11"
      ],
      "metadata": {
        "id": "UoUq5FYffEgW"
      }
    },
    {
      "cell_type": "code",
      "source": [
        "import logging\n",
        "\n",
        "logging.basicConfig(\n",
        "    filename=\"transactions.log\",\n",
        "    level=logging.INFO,\n",
        "    format=\"%(asctime)s - %(levelname)s - %(message)s\"\n",
        ")\n",
        "\n",
        "def transfer(amount, balance):\n",
        "    try:\n",
        "        if amount <= 0:\n",
        "            raise ValueError(\"Amount must be positive.\")\n",
        "        if amount > balance:\n",
        "            raise ValueError(\"Insufficient funds.\")\n",
        "        balance -= amount\n",
        "        logging.info(f\"Transferred {amount}, Remaining balance: {balance}\")\n",
        "        return balance\n",
        "    except ValueError as e:\n",
        "        logging.error(f\"Transaction failed: {e}\")\n",
        "        print(\"Transaction Error:\", e)\n",
        "        return balance\n",
        "\n",
        "balance = 500\n",
        "balance = transfer(200, balance)    # Success\n",
        "balance = transfer(1000, balance)   # Fail (insufficient funds)\n"
      ],
      "metadata": {
        "colab": {
          "base_uri": "https://localhost:8080/"
        },
        "id": "3ptlI51VfHGP",
        "outputId": "b5162b75-e786-4827-ceb2-0c3b4843ee55"
      },
      "execution_count": 26,
      "outputs": [
        {
          "output_type": "stream",
          "name": "stderr",
          "text": [
            "ERROR:root:Transaction failed: Insufficient funds.\n"
          ]
        },
        {
          "output_type": "stream",
          "name": "stdout",
          "text": [
            "Transaction Error: Insufficient funds.\n"
          ]
        }
      ]
    }
  ]
}